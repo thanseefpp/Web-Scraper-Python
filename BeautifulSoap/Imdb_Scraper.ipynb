{
 "cells": [
  {
   "attachments": {},
   "cell_type": "markdown",
   "metadata": {},
   "source": [
    "# Web Scraping Using Beautiful Soap"
   ]
  },
  {
   "cell_type": "code",
   "execution_count": 9,
   "metadata": {},
   "outputs": [],
   "source": [
    "from bs4 import BeautifulSoup\n",
    "import requests,csv"
   ]
  },
  {
   "cell_type": "code",
   "execution_count": 10,
   "metadata": {},
   "outputs": [],
   "source": [
    "try:\n",
    "    collected_info = requests.get(\"https://www.imdb.com/chart/top/\")\n",
    "    collected_info.raise_for_status() # this will raise error if the link is having any issues or misspelled\n",
    "    soap = BeautifulSoup(collected_info.content,'html5lib')\n",
    "    movies = soap.find( \"tbody\" ,attrs = {'class':'lister-list'}).find_all(\"tr\")\n",
    "    with open('TopRatedMovies.csv', 'w', newline='') as file:\n",
    "        writer = csv.writer(file)\n",
    "        # csv titles create\n",
    "        writer.writerow([\"Rank\",\"Name\",\"Rating\",\"Year of Release\"])\n",
    "        for movie in movies:\n",
    "            name_of_movie = movie.find('td', class_=\"titleColumn\").a.text\n",
    "            rank_number = movie.find('td', class_=\"titleColumn\").get_text(strip=True).split('.')[0]\n",
    "            year_of_release = movie.find('td', class_=\"titleColumn\").span.text.strip(\"()\")\n",
    "            imdb_rating = movie.find('td', class_=\"imdbRating\").strong.text\n",
    "            # writing items to csv file\n",
    "            writer.writerow([rank_number,name_of_movie,imdb_rating,year_of_release])\n",
    "    \n",
    "except Exception as e:\n",
    "    print(e)"
   ]
  }
 ],
 "metadata": {
  "kernelspec": {
   "display_name": "envpytorch",
   "language": "python",
   "name": "python3"
  },
  "language_info": {
   "codemirror_mode": {
    "name": "ipython",
    "version": 3
   },
   "file_extension": ".py",
   "mimetype": "text/x-python",
   "name": "python",
   "nbconvert_exporter": "python",
   "pygments_lexer": "ipython3",
   "version": "3.9.7"
  },
  "orig_nbformat": 4,
  "vscode": {
   "interpreter": {
    "hash": "2d2b75f25691386d7722257fdcae6ee1a719d57d4c804739e2971773ecd8516f"
   }
  }
 },
 "nbformat": 4,
 "nbformat_minor": 2
}
