{
 "cells": [
  {
   "attachments": {},
   "cell_type": "markdown",
   "metadata": {},
   "source": [
    "# Web Scrapper"
   ]
  },
  {
   "attachments": {},
   "cell_type": "markdown",
   "metadata": {},
   "source": [
    "## Importing Libraries"
   ]
  },
  {
   "cell_type": "code",
   "execution_count": 71,
   "metadata": {},
   "outputs": [],
   "source": [
    "from autoscraper import AutoScraper"
   ]
  },
  {
   "attachments": {},
   "cell_type": "markdown",
   "metadata": {},
   "source": [
    "## Collect Data from URL"
   ]
  },
  {
   "cell_type": "code",
   "execution_count": 72,
   "metadata": {},
   "outputs": [],
   "source": [
    "url = \"https://www.amazon.in/s?k=iphone\"\n",
    "\n",
    "collect_data = [\"Apple iPhone 13 (128GB) - (Product) RED\", \"12,844\", \"₹59,499\"]"
   ]
  },
  {
   "attachments": {},
   "cell_type": "markdown",
   "metadata": {},
   "source": [
    "## Building the Model"
   ]
  },
  {
   "cell_type": "code",
   "execution_count": 73,
   "metadata": {},
   "outputs": [],
   "source": [
    "scraper = AutoScraper()\n",
    "result = scraper.build(url=url,wanted_list=collect_data)"
   ]
  },
  {
   "cell_type": "code",
   "execution_count": 74,
   "metadata": {},
   "outputs": [
    {
     "data": {
      "text/plain": [
       "['Apple iPhone 12 (128GB) - Blue',\n",
       " 'Apple iPhone 12 (64GB) - Blue',\n",
       " 'Apple iPhone 12 (128GB) - Black',\n",
       " 'Apple iPhone 12 (128GB) - White',\n",
       " 'Apple iPhone 13 (128GB) - Starlight',\n",
       " 'Apple iPhone 13 (128GB) - (Product) RED',\n",
       " 'Apple iPhone 13 (128GB) - Blue',\n",
       " 'Apple iPhone 12 (128GB) - Purple',\n",
       " 'Apple iPhone 13 (128GB) - Midnight',\n",
       " 'Apple iPhone 14 Pro 128GB Space Black',\n",
       " 'Apple iPhone 12 (64GB) - Black',\n",
       " 'Apple iPhone 12 (64GB) - White',\n",
       " 'Apple iPhone 12 (128GB) - Green',\n",
       " 'Apple iPhone 12 (64GB) - Green',\n",
       " 'Apple iPhone 12 (64GB) - Purple',\n",
       " 'Apple iPhone 13 (256GB) - Blue',\n",
       " '29,299',\n",
       " '12,844',\n",
       " '37',\n",
       " '₹55,900',\n",
       " '₹64,900',\n",
       " '₹49,900',\n",
       " '₹59,900',\n",
       " '₹70,900',\n",
       " '₹59,499',\n",
       " '₹69,900',\n",
       " '₹79,900',\n",
       " '₹1,22,999',\n",
       " '₹1,29,900']"
      ]
     },
     "execution_count": 74,
     "metadata": {},
     "output_type": "execute_result"
    }
   ],
   "source": [
    "result"
   ]
  },
  {
   "attachments": {},
   "cell_type": "markdown",
   "metadata": {},
   "source": [
    "## Grouping the Result"
   ]
  },
  {
   "cell_type": "code",
   "execution_count": 75,
   "metadata": {},
   "outputs": [],
   "source": [
    "collected_data = scraper.get_result_similar(url,grouped=True)"
   ]
  },
  {
   "cell_type": "code",
   "execution_count": 76,
   "metadata": {},
   "outputs": [
    {
     "data": {
      "text/plain": [
       "{'rule_in49': ['Apple iPhone 12 (128GB) - Blue',\n",
       "  'Apple iPhone 12 (64GB) - Blue',\n",
       "  'Apple iPhone 12 (128GB) - Black',\n",
       "  'Apple iPhone 12 (128GB) - White',\n",
       "  'Apple iPhone 13 (128GB) - Starlight',\n",
       "  'Apple iPhone 13 (128GB) - (Product) RED',\n",
       "  'Apple iPhone 13 (128GB) - Blue',\n",
       "  'Apple iPhone 12 (128GB) - Purple',\n",
       "  'Apple iPhone 13 (128GB) - Midnight',\n",
       "  'Apple iPhone 14 Pro 128GB Space Black',\n",
       "  'Apple iPhone 12 (64GB) - Black',\n",
       "  'Apple iPhone 12 (64GB) - White',\n",
       "  'Apple iPhone 12 (128GB) - Green',\n",
       "  'Apple iPhone 12 (64GB) - Green',\n",
       "  'Apple iPhone 12 (64GB) - Purple',\n",
       "  'Apple iPhone 13 (256GB) - Blue'],\n",
       " 'rule_nv22': ['Apple iPhone 12 (128GB) - Blue',\n",
       "  'Apple iPhone 12 (64GB) - Blue',\n",
       "  'Apple iPhone 12 (128GB) - Black',\n",
       "  'Apple iPhone 12 (128GB) - White',\n",
       "  'Apple iPhone 13 (128GB) - Starlight',\n",
       "  'Apple iPhone 13 (128GB) - (Product) RED',\n",
       "  'Apple iPhone 13 (128GB) - Blue',\n",
       "  'Apple iPhone 12 (128GB) - Purple',\n",
       "  'Apple iPhone 13 (128GB) - Midnight',\n",
       "  'Apple iPhone 14 Pro 128GB Space Black',\n",
       "  'Apple iPhone 12 (64GB) - Black',\n",
       "  'Apple iPhone 12 (64GB) - White',\n",
       "  'Apple iPhone 12 (128GB) - Green',\n",
       "  'Apple iPhone 12 (64GB) - Green',\n",
       "  'Apple iPhone 12 (64GB) - Purple',\n",
       "  'Apple iPhone 13 (256GB) - Blue'],\n",
       " 'rule_89w0': ['Apple iPhone 13 (128GB) - (Product) RED',\n",
       "  'Apple iPhone 12 (128GB) - Purple'],\n",
       " 'rule_u8h8': ['Apple iPhone 13 (128GB) - (Product) RED'],\n",
       " 'rule_q32j': ['Apple iPhone 13 (128GB) - (Product) RED'],\n",
       " 'rule_r867': ['29,299',\n",
       "  '29,299',\n",
       "  '29,299',\n",
       "  '29,299',\n",
       "  '12,844',\n",
       "  '12,844',\n",
       "  '12,844',\n",
       "  '29,299',\n",
       "  '12,844',\n",
       "  '37',\n",
       "  '29,299',\n",
       "  '29,299',\n",
       "  '29,299',\n",
       "  '29,299',\n",
       "  '29,299',\n",
       "  '12,844'],\n",
       " 'rule_lbfp': ['29,299',\n",
       "  '29,299',\n",
       "  '29,299',\n",
       "  '29,299',\n",
       "  '12,844',\n",
       "  '12,844',\n",
       "  '12,844',\n",
       "  '29,299',\n",
       "  '12,844',\n",
       "  '37',\n",
       "  '29,299',\n",
       "  '29,299',\n",
       "  '29,299',\n",
       "  '29,299',\n",
       "  '29,299',\n",
       "  '12,844'],\n",
       " 'rule_adx1': ['29,299',\n",
       "  '29,299',\n",
       "  '29,299',\n",
       "  '29,299',\n",
       "  '12,844',\n",
       "  '12,844',\n",
       "  '12,844',\n",
       "  '29,299',\n",
       "  '12,844',\n",
       "  '37',\n",
       "  '29,299',\n",
       "  '29,299',\n",
       "  '29,299',\n",
       "  '29,299',\n",
       "  '29,299',\n",
       "  '12,844'],\n",
       " 'rule_pbq4': ['29,299',\n",
       "  '29,299',\n",
       "  '29,299',\n",
       "  '29,299',\n",
       "  '12,844',\n",
       "  '12,844',\n",
       "  '12,844',\n",
       "  '29,299',\n",
       "  '12,844',\n",
       "  '37',\n",
       "  '29,299',\n",
       "  '29,299',\n",
       "  '29,299',\n",
       "  '29,299',\n",
       "  '29,299',\n",
       "  '12,844'],\n",
       " 'rule_97m3': ['29,299',\n",
       "  '29,299',\n",
       "  '29,299',\n",
       "  '29,299',\n",
       "  '12,844',\n",
       "  '12,844',\n",
       "  '12,844',\n",
       "  '29,299',\n",
       "  '12,844',\n",
       "  '37',\n",
       "  '29,299',\n",
       "  '29,299',\n",
       "  '29,299',\n",
       "  '29,299',\n",
       "  '29,299',\n",
       "  '12,844'],\n",
       " 'rule_q1ze': ['12,844', '29,299'],\n",
       " 'rule_dcis': ['12,844'],\n",
       " 'rule_rxsz': ['₹55,900',\n",
       "  '₹64,900',\n",
       "  '₹49,900',\n",
       "  '₹59,900',\n",
       "  '₹55,900',\n",
       "  '₹70,900',\n",
       "  '₹55,900',\n",
       "  '₹64,900',\n",
       "  '₹59,499',\n",
       "  '₹69,900',\n",
       "  '₹59,499',\n",
       "  '₹69,900',\n",
       "  '₹55,900',\n",
       "  '₹64,900',\n",
       "  '₹59,499',\n",
       "  '₹79,900',\n",
       "  '₹1,22,999',\n",
       "  '₹1,29,900',\n",
       "  '₹49,900',\n",
       "  '₹59,900',\n",
       "  '₹49,900',\n",
       "  '₹59,900',\n",
       "  '₹55,900',\n",
       "  '₹70,900',\n",
       "  '₹49,900',\n",
       "  '₹59,900',\n",
       "  '₹49,900',\n",
       "  '₹59,900'],\n",
       " 'rule_xmc6': ['₹55,900',\n",
       "  '₹64,900',\n",
       "  '₹49,900',\n",
       "  '₹59,900',\n",
       "  '₹55,900',\n",
       "  '₹70,900',\n",
       "  '₹55,900',\n",
       "  '₹64,900',\n",
       "  '₹59,499',\n",
       "  '₹69,900',\n",
       "  '₹59,499',\n",
       "  '₹69,900',\n",
       "  '₹55,900',\n",
       "  '₹64,900',\n",
       "  '₹59,499',\n",
       "  '₹79,900',\n",
       "  '₹1,22,999',\n",
       "  '₹1,29,900',\n",
       "  '₹49,900',\n",
       "  '₹59,900',\n",
       "  '₹49,900',\n",
       "  '₹59,900',\n",
       "  '₹55,900',\n",
       "  '₹70,900',\n",
       "  '₹49,900',\n",
       "  '₹59,900',\n",
       "  '₹49,900',\n",
       "  '₹59,900'],\n",
       " 'rule_gke3': ['₹55,900',\n",
       "  '₹64,900',\n",
       "  '₹49,900',\n",
       "  '₹59,900',\n",
       "  '₹55,900',\n",
       "  '₹70,900',\n",
       "  '₹55,900',\n",
       "  '₹64,900',\n",
       "  '₹59,499',\n",
       "  '₹69,900',\n",
       "  '₹59,499',\n",
       "  '₹69,900',\n",
       "  '₹55,900',\n",
       "  '₹64,900',\n",
       "  '₹59,499',\n",
       "  '₹79,900',\n",
       "  '₹1,22,999',\n",
       "  '₹1,29,900',\n",
       "  '₹49,900',\n",
       "  '₹59,900',\n",
       "  '₹49,900',\n",
       "  '₹59,900',\n",
       "  '₹55,900',\n",
       "  '₹70,900',\n",
       "  '₹49,900',\n",
       "  '₹59,900',\n",
       "  '₹49,900',\n",
       "  '₹59,900'],\n",
       " 'rule_u1mb': ['₹55,900',\n",
       "  '₹64,900',\n",
       "  '₹49,900',\n",
       "  '₹59,900',\n",
       "  '₹55,900',\n",
       "  '₹70,900',\n",
       "  '₹55,900',\n",
       "  '₹64,900',\n",
       "  '₹59,499',\n",
       "  '₹69,900',\n",
       "  '₹59,499',\n",
       "  '₹69,900',\n",
       "  '₹55,900',\n",
       "  '₹64,900',\n",
       "  '₹59,499',\n",
       "  '₹79,900',\n",
       "  '₹1,22,999',\n",
       "  '₹1,29,900',\n",
       "  '₹49,900',\n",
       "  '₹59,900',\n",
       "  '₹49,900',\n",
       "  '₹59,900',\n",
       "  '₹55,900',\n",
       "  '₹70,900',\n",
       "  '₹49,900',\n",
       "  '₹59,900',\n",
       "  '₹49,900',\n",
       "  '₹59,900'],\n",
       " 'rule_lizy': ['₹55,900',\n",
       "  '₹64,900',\n",
       "  '₹49,900',\n",
       "  '₹59,900',\n",
       "  '₹55,900',\n",
       "  '₹70,900',\n",
       "  '₹55,900',\n",
       "  '₹64,900',\n",
       "  '₹59,499',\n",
       "  '₹69,900',\n",
       "  '₹59,499',\n",
       "  '₹69,900',\n",
       "  '₹55,900',\n",
       "  '₹64,900',\n",
       "  '₹59,499',\n",
       "  '₹79,900',\n",
       "  '₹1,22,999',\n",
       "  '₹1,29,900',\n",
       "  '₹49,900',\n",
       "  '₹59,900',\n",
       "  '₹49,900',\n",
       "  '₹59,900',\n",
       "  '₹55,900',\n",
       "  '₹70,900',\n",
       "  '₹49,900',\n",
       "  '₹59,900',\n",
       "  '₹49,900',\n",
       "  '₹59,900'],\n",
       " 'rule_nlfr': ['₹55,900',\n",
       "  '₹64,900',\n",
       "  '₹49,900',\n",
       "  '₹59,900',\n",
       "  '₹55,900',\n",
       "  '₹70,900',\n",
       "  '₹55,900',\n",
       "  '₹64,900',\n",
       "  '₹59,499',\n",
       "  '₹69,900',\n",
       "  '₹59,499',\n",
       "  '₹69,900',\n",
       "  '₹55,900',\n",
       "  '₹64,900',\n",
       "  '₹59,499',\n",
       "  '₹79,900',\n",
       "  '₹1,22,999',\n",
       "  '₹1,29,900',\n",
       "  '₹49,900',\n",
       "  '₹59,900',\n",
       "  '₹49,900',\n",
       "  '₹59,900',\n",
       "  '₹55,900',\n",
       "  '₹70,900',\n",
       "  '₹49,900',\n",
       "  '₹59,900',\n",
       "  '₹49,900',\n",
       "  '₹59,900'],\n",
       " 'rule_q97m': ['₹59,499', '₹69,900', '₹55,900', '₹64,900'],\n",
       " 'rule_r41i': ['₹59,499', '₹69,900', '₹55,900', '₹64,900']}"
      ]
     },
     "execution_count": 76,
     "metadata": {},
     "output_type": "execute_result"
    }
   ],
   "source": [
    "collected_data"
   ]
  },
  {
   "cell_type": "code",
   "execution_count": 77,
   "metadata": {},
   "outputs": [
    {
     "data": {
      "text/plain": [
       "dict_keys(['rule_in49', 'rule_nv22', 'rule_89w0', 'rule_u8h8', 'rule_q32j', 'rule_r867', 'rule_lbfp', 'rule_adx1', 'rule_pbq4', 'rule_97m3', 'rule_q1ze', 'rule_dcis', 'rule_rxsz', 'rule_xmc6', 'rule_gke3', 'rule_u1mb', 'rule_lizy', 'rule_nlfr', 'rule_q97m', 'rule_r41i'])"
      ]
     },
     "execution_count": 77,
     "metadata": {},
     "output_type": "execute_result"
    }
   ],
   "source": [
    "collected_data.keys()"
   ]
  },
  {
   "cell_type": "code",
   "execution_count": 81,
   "metadata": {},
   "outputs": [
    {
     "data": {
      "text/plain": [
       "['₹55,900',\n",
       " '₹64,900',\n",
       " '₹49,900',\n",
       " '₹59,900',\n",
       " '₹55,900',\n",
       " '₹70,900',\n",
       " '₹55,900',\n",
       " '₹64,900',\n",
       " '₹59,499',\n",
       " '₹69,900',\n",
       " '₹59,499',\n",
       " '₹69,900',\n",
       " '₹55,900',\n",
       " '₹64,900',\n",
       " '₹59,499',\n",
       " '₹79,900',\n",
       " '₹1,22,999',\n",
       " '₹1,29,900',\n",
       " '₹49,900',\n",
       " '₹59,900',\n",
       " '₹49,900',\n",
       " '₹59,900',\n",
       " '₹55,900',\n",
       " '₹70,900',\n",
       " '₹49,900',\n",
       " '₹59,900',\n",
       " '₹49,900',\n",
       " '₹59,900']"
      ]
     },
     "execution_count": 81,
     "metadata": {},
     "output_type": "execute_result"
    }
   ],
   "source": [
    "collected_data[\"rule_rxsz\"]"
   ]
  },
  {
   "attachments": {},
   "cell_type": "markdown",
   "metadata": {},
   "source": [
    "## Setting Rules to Change the default Grouped data to Our Own key-pairs"
   ]
  },
  {
   "cell_type": "code",
   "execution_count": 85,
   "metadata": {},
   "outputs": [],
   "source": [
    "scraper.set_rule_aliases({\"rule_in49\" : \"Title\", \"rule_r867\":\"Rating\", \"rule_rxsz\" : \"Price\"})"
   ]
  },
  {
   "cell_type": "code",
   "execution_count": 86,
   "metadata": {},
   "outputs": [],
   "source": [
    "scraper.keep_rules([\"rule_in49\", \"rule_r867\", \"rule_rxsz\"])"
   ]
  },
  {
   "cell_type": "code",
   "execution_count": 87,
   "metadata": {},
   "outputs": [],
   "source": [
    "# scraper.save(\"amazon_data.json\")"
   ]
  },
  {
   "cell_type": "code",
   "execution_count": 88,
   "metadata": {},
   "outputs": [],
   "source": [
    "result = scraper.get_result_similar(\"https://www.amazon.in/s?k=smartphones+under+20000\",group_by_alias=True)"
   ]
  },
  {
   "cell_type": "code",
   "execution_count": 89,
   "metadata": {},
   "outputs": [
    {
     "data": {
      "text/plain": [
       "{'Title': ['realme narzo 50i (Carbon Black, 2GB RAM+32GB Storage) Octa Core Processor | 6.5\" inch Large Display',\n",
       "  'Redmi A1 (Light Blue, 2GB RAM, 32GB Storage) | Segment Best AI Dual Cam | 5000mAh Battery | Leather Texture Design | Android 12',\n",
       "  'OPPO A74 5G (Fantastic Purple,6GB RAM,128GB Storage) with No Cost EMI/Additional Exchange Offers',\n",
       "  'Redmi 9A Sport (Coral Green, 2GB RAM, 32GB Storage) | 2GHz Octa-core Helio G25 Processor | 5000 mAh Battery',\n",
       "  'Samsung Galaxy M13 (Aqua Green, 4GB, 64GB Storage) | 6000mAh Battery | Upto 8GB RAM with RAM Plus',\n",
       "  'realme narzo 50i (Mint Green, 2GB RAM+32GB Storage) Octa Core Processor | 6.5\" inch Large Display',\n",
       "  'OPPO A31 (Mystery Black, 6GB RAM, 128GB Storage) with No Cost EMI/Additional Exchange Offers',\n",
       "  'Redmi 10A (Slate Grey, 4GB RAM, 64GB Storage) | 2 Ghz Octa Core Helio G25 | 5000 mAh Battery | Finger Print Sensor | Upto 5GB RAM with RAM Booster',\n",
       "  'Redmi 9A Sport (Carbon Black, 2GB RAM, 32GB Storage) | 2GHz Octa-core Helio G25 Processor | 5000 mAh Battery',\n",
       "  'realme narzo 50i (Mint Green, 4GB RAM+64GB Storage) Octa Core Processor | 6.5\" inch Large Display',\n",
       "  'Redmi A1 (Black, 2GB RAM, 32GB Storage) | Segment Best AI Dual Cam | 5000mAh Battery | Leather Texture Design | Android 12',\n",
       "  'realme Narzo 50 Pro 5G (Hyper Black 6GB RAM+128GB Storage) Super AMOLED | Advanced Dimensity 920 5G Gaming Processor | 50% Charge in 31 min',\n",
       "  'Redmi A1 (Light Green, 2GB RAM 32GB ROM) | Segment Best AI Dual Cam | 5000mAh Battery | Leather Texture Design | Android 12',\n",
       "  'OPPO A74 5G (Fluid Black, 6GB RAM, 128GB Storage) with No Cost EMI/Additional Exchange Offers',\n",
       "  'Nokia G21 Android Smartphone, Dual SIM, 3-Day Battery Life, 6GB RAM + 128GB Storage, 50MP Triple AI Camera | Nordic Blue',\n",
       "  'Redmi Note 11T 5G (Matte Black, 8GB RAM, 128GB ROM)| Dimensity 810 5G | 33W Pro Fast Charging | Charger Included | Additional Exchange Offers| Get 2 Months of YouTube Premium Free!'],\n",
       " 'Rating': ['31,300',\n",
       "  '8,388',\n",
       "  '33,205',\n",
       "  '315,238',\n",
       "  '19,913',\n",
       "  '31,300',\n",
       "  '58,671',\n",
       "  '13,340',\n",
       "  '315,238',\n",
       "  '31,300',\n",
       "  '8,388',\n",
       "  '4,582',\n",
       "  '8,388',\n",
       "  '33,205',\n",
       "  '3,208',\n",
       "  '32,343'],\n",
       " 'Price': ['₹6,499',\n",
       "  '₹7,999',\n",
       "  '₹5,699',\n",
       "  '₹8,999',\n",
       "  '₹15,490',\n",
       "  '₹20,990',\n",
       "  '₹6,499',\n",
       "  '₹7,999',\n",
       "  '₹9,499',\n",
       "  '₹14,999',\n",
       "  '₹6,499',\n",
       "  '₹7,999',\n",
       "  '₹12,490',\n",
       "  '₹15,990',\n",
       "  '₹8,299',\n",
       "  '₹11,999',\n",
       "  '₹6,499',\n",
       "  '₹7,999',\n",
       "  '₹8,999',\n",
       "  '₹9,999',\n",
       "  '₹5,699',\n",
       "  '₹8,999',\n",
       "  '₹19,999',\n",
       "  '₹25,999',\n",
       "  '₹5,699',\n",
       "  '₹8,999',\n",
       "  '₹15,490',\n",
       "  '₹20,990',\n",
       "  '₹13,748',\n",
       "  '₹16,999',\n",
       "  '₹18,499',\n",
       "  '₹22,999']}"
      ]
     },
     "execution_count": 89,
     "metadata": {},
     "output_type": "execute_result"
    }
   ],
   "source": [
    "result"
   ]
  },
  {
   "cell_type": "code",
   "execution_count": 90,
   "metadata": {},
   "outputs": [
    {
     "data": {
      "text/plain": [
       "['realme narzo 50i (Carbon Black, 2GB RAM+32GB Storage) Octa Core Processor | 6.5\" inch Large Display',\n",
       " 'Redmi A1 (Light Blue, 2GB RAM, 32GB Storage) | Segment Best AI Dual Cam | 5000mAh Battery | Leather Texture Design | Android 12',\n",
       " 'OPPO A74 5G (Fantastic Purple,6GB RAM,128GB Storage) with No Cost EMI/Additional Exchange Offers',\n",
       " 'Redmi 9A Sport (Coral Green, 2GB RAM, 32GB Storage) | 2GHz Octa-core Helio G25 Processor | 5000 mAh Battery',\n",
       " 'Samsung Galaxy M13 (Aqua Green, 4GB, 64GB Storage) | 6000mAh Battery | Upto 8GB RAM with RAM Plus',\n",
       " 'realme narzo 50i (Mint Green, 2GB RAM+32GB Storage) Octa Core Processor | 6.5\" inch Large Display',\n",
       " 'OPPO A31 (Mystery Black, 6GB RAM, 128GB Storage) with No Cost EMI/Additional Exchange Offers',\n",
       " 'Redmi 10A (Slate Grey, 4GB RAM, 64GB Storage) | 2 Ghz Octa Core Helio G25 | 5000 mAh Battery | Finger Print Sensor | Upto 5GB RAM with RAM Booster',\n",
       " 'Redmi 9A Sport (Carbon Black, 2GB RAM, 32GB Storage) | 2GHz Octa-core Helio G25 Processor | 5000 mAh Battery',\n",
       " 'realme narzo 50i (Mint Green, 4GB RAM+64GB Storage) Octa Core Processor | 6.5\" inch Large Display',\n",
       " 'Redmi A1 (Black, 2GB RAM, 32GB Storage) | Segment Best AI Dual Cam | 5000mAh Battery | Leather Texture Design | Android 12',\n",
       " 'realme Narzo 50 Pro 5G (Hyper Black 6GB RAM+128GB Storage) Super AMOLED | Advanced Dimensity 920 5G Gaming Processor | 50% Charge in 31 min',\n",
       " 'Redmi A1 (Light Green, 2GB RAM 32GB ROM) | Segment Best AI Dual Cam | 5000mAh Battery | Leather Texture Design | Android 12',\n",
       " 'OPPO A74 5G (Fluid Black, 6GB RAM, 128GB Storage) with No Cost EMI/Additional Exchange Offers',\n",
       " 'Nokia G21 Android Smartphone, Dual SIM, 3-Day Battery Life, 6GB RAM + 128GB Storage, 50MP Triple AI Camera | Nordic Blue',\n",
       " 'Redmi Note 11T 5G (Matte Black, 8GB RAM, 128GB ROM)| Dimensity 810 5G | 33W Pro Fast Charging | Charger Included | Additional Exchange Offers| Get 2 Months of YouTube Premium Free!']"
      ]
     },
     "execution_count": 90,
     "metadata": {},
     "output_type": "execute_result"
    }
   ],
   "source": [
    "result['Title']"
   ]
  }
 ],
 "metadata": {
  "kernelspec": {
   "display_name": "envpytorch",
   "language": "python",
   "name": "python3"
  },
  "language_info": {
   "codemirror_mode": {
    "name": "ipython",
    "version": 3
   },
   "file_extension": ".py",
   "mimetype": "text/x-python",
   "name": "python",
   "nbconvert_exporter": "python",
   "pygments_lexer": "ipython3",
   "version": "3.9.7"
  },
  "orig_nbformat": 4,
  "vscode": {
   "interpreter": {
    "hash": "2d2b75f25691386d7722257fdcae6ee1a719d57d4c804739e2971773ecd8516f"
   }
  }
 },
 "nbformat": 4,
 "nbformat_minor": 2
}
